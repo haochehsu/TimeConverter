{
 "cells": [
  {
   "cell_type": "code",
   "execution_count": 1,
   "id": "fb80be1f",
   "metadata": {
    "ExecuteTime": {
     "end_time": "2021-05-04T22:20:36.448264Z",
     "start_time": "2021-05-04T22:20:36.440919Z"
    }
   },
   "outputs": [],
   "source": [
    "def timeConvert(zone, date_time_str):\n",
    "    \n",
    "    from datetime import datetime\n",
    "    from dateutil import parser\n",
    "    from pytz import timezone\n",
    "    import pytz\n",
    "    import os\n",
    "    \n",
    "    # 'US/Pacific', 'US/Eastern'\n",
    "    os.environ['TZ'] = zone\n",
    "\n",
    "    if (date_time_str == '') | (date_time_str == 'now'):\n",
    "        localFormat = \"%Y%d%m %H:%M:%S\"\n",
    "        time = datetime.now(tz=pytz.utc)\n",
    "    else:\n",
    "        localFormat = \"%m%d%Y %H:%M:%S\"\n",
    "        time = datetime.strptime(date_time_str, localFormat)\n",
    "    \n",
    "    '''\n",
    "    Zones: https://gist.github.com/heyalexej/8bf688fd67d7199be4a1682b3eec7568\n",
    "    '''\n",
    "    # 'Asia/Tokyo', 'Australia/Sydney', 'Europe/Vienna', 'Europe/Berlin',\n",
    "    # 'Europe/London', 'Europe/Paris', 'Pacific/Honolulu', 'Canada/Mountain'\n",
    "    timezones = [\n",
    "        'America/Los_Angeles', 'America/Chicago', 'America/New_York', \n",
    "        'Asia/Shanghai', 'Asia/Taipei', \n",
    "    ]\n",
    "    displayFormat = \"%d, %Y, %H:%M:%S\"\n",
    "    \n",
    "    for tz in timezones:\n",
    "        localDatetime = time.astimezone(pytz.timezone(tz))\n",
    "        print('----- ' +'\\033[1m' + str(tz) + ' -----\\n' \n",
    "              + '\\033[0m' + str(time.strftime(\"%B\")) + ' ' \n",
    "              + str(localDatetime.strftime(displayFormat)) + '\\n')"
   ]
  },
  {
   "cell_type": "code",
   "execution_count": 2,
   "id": "f0204a88",
   "metadata": {
    "ExecuteTime": {
     "end_time": "2021-05-04T22:20:36.487415Z",
     "start_time": "2021-05-04T22:20:36.452762Z"
    }
   },
   "outputs": [
    {
     "name": "stdout",
     "output_type": "stream",
     "text": [
      "----- \u001b[1mAmerica/Los_Angeles -----\n",
      "\u001b[0mMay 04, 2021, 15:20:36\n",
      "\n",
      "----- \u001b[1mAmerica/Chicago -----\n",
      "\u001b[0mMay 04, 2021, 17:20:36\n",
      "\n",
      "----- \u001b[1mAmerica/New_York -----\n",
      "\u001b[0mMay 04, 2021, 18:20:36\n",
      "\n",
      "----- \u001b[1mAsia/Shanghai -----\n",
      "\u001b[0mMay 05, 2021, 06:20:36\n",
      "\n",
      "----- \u001b[1mAsia/Taipei -----\n",
      "\u001b[0mMay 05, 2021, 06:20:36\n",
      "\n"
     ]
    }
   ],
   "source": [
    "timeConvert('America/Los_Angeles', 'now')"
   ]
  },
  {
   "cell_type": "code",
   "execution_count": 3,
   "id": "ea3ca7d7",
   "metadata": {
    "ExecuteTime": {
     "end_time": "2021-05-04T22:20:36.492628Z",
     "start_time": "2021-05-04T22:20:36.489751Z"
    }
   },
   "outputs": [
    {
     "name": "stdout",
     "output_type": "stream",
     "text": [
      "----- \u001b[1mAmerica/Los_Angeles -----\n",
      "\u001b[0mMay 12, 2021, 15:30:00\n",
      "\n",
      "----- \u001b[1mAmerica/Chicago -----\n",
      "\u001b[0mMay 12, 2021, 17:30:00\n",
      "\n",
      "----- \u001b[1mAmerica/New_York -----\n",
      "\u001b[0mMay 12, 2021, 18:30:00\n",
      "\n",
      "----- \u001b[1mAsia/Shanghai -----\n",
      "\u001b[0mMay 13, 2021, 06:30:00\n",
      "\n",
      "----- \u001b[1mAsia/Taipei -----\n",
      "\u001b[0mMay 13, 2021, 06:30:00\n",
      "\n"
     ]
    }
   ],
   "source": [
    "timeConvert('America/Los_Angeles', '05122021 15:30:00')"
   ]
  },
  {
   "cell_type": "code",
   "execution_count": 4,
   "id": "24986b90",
   "metadata": {
    "ExecuteTime": {
     "end_time": "2021-05-04T22:20:36.496609Z",
     "start_time": "2021-05-04T22:20:36.494267Z"
    }
   },
   "outputs": [
    {
     "name": "stdout",
     "output_type": "stream",
     "text": [
      "----- \u001b[1mAmerica/Los_Angeles -----\n",
      "\u001b[0mMay 12, 2021, 15:30:00\n",
      "\n",
      "----- \u001b[1mAmerica/Chicago -----\n",
      "\u001b[0mMay 12, 2021, 17:30:00\n",
      "\n",
      "----- \u001b[1mAmerica/New_York -----\n",
      "\u001b[0mMay 12, 2021, 18:30:00\n",
      "\n",
      "----- \u001b[1mAsia/Shanghai -----\n",
      "\u001b[0mMay 13, 2021, 06:30:00\n",
      "\n",
      "----- \u001b[1mAsia/Taipei -----\n",
      "\u001b[0mMay 13, 2021, 06:30:00\n",
      "\n"
     ]
    }
   ],
   "source": [
    "timeConvert('Asia/Shanghai', '05132021 06:30:00')"
   ]
  }
 ],
 "metadata": {
  "kernelspec": {
   "display_name": "Python 3",
   "language": "python",
   "name": "python3"
  },
  "language_info": {
   "codemirror_mode": {
    "name": "ipython",
    "version": 3
   },
   "file_extension": ".py",
   "mimetype": "text/x-python",
   "name": "python",
   "nbconvert_exporter": "python",
   "pygments_lexer": "ipython3",
   "version": "3.7.10"
  },
  "varInspector": {
   "cols": {
    "lenName": 16,
    "lenType": 16,
    "lenVar": 40
   },
   "kernels_config": {
    "python": {
     "delete_cmd_postfix": "",
     "delete_cmd_prefix": "del ",
     "library": "var_list.py",
     "varRefreshCmd": "print(var_dic_list())"
    },
    "r": {
     "delete_cmd_postfix": ") ",
     "delete_cmd_prefix": "rm(",
     "library": "var_list.r",
     "varRefreshCmd": "cat(var_dic_list()) "
    }
   },
   "types_to_exclude": [
    "module",
    "function",
    "builtin_function_or_method",
    "instance",
    "_Feature"
   ],
   "window_display": false
  }
 },
 "nbformat": 4,
 "nbformat_minor": 5
}
